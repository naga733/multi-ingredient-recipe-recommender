{
  "nbformat": 4,
  "nbformat_minor": 0,
  "metadata": {
    "colab": {
      "provenance": []
    },
    "kernelspec": {
      "name": "python3",
      "display_name": "Python 3"
    },
    "language_info": {
      "name": "python"
    }
  },
  "cells": [
    {
      "cell_type": "markdown",
      "source": [
        "# YOLO Multi-Ingredient Detection — Cleaned Version\n",
        "\n",
        "This notebook is a **cleaned-up version** of my YOLO training workflow.  \n",
        "\n",
        "Originally, multiple experiments were performed using various datasets, methods, and hyperparameter configurations. For clarity and readability, all trial-and-error code, intermediate outputs, and unnecessary steps have been removed.  \n",
        "\n",
        "This notebook contains only the **essential code** needed to reproduce the YOLO training for multi-ingredient detection in the\n",
        "project.\n",
        "\n"
      ],
      "metadata": {
        "id": "8W2RaAvLJ0al"
      }
    },
    {
      "cell_type": "code",
      "source": [
        "from google.colab import drive\n",
        "drive.mount('/content/drive')\n",
        "!pip install fiftyone\n",
        "!pip install torch torchvision\n",
        "!pip install ultralytics"
      ],
      "metadata": {
        "id": "m5ZjeSNOxRQY"
      },
      "execution_count": null,
      "outputs": []
    },
    {
      "cell_type": "code",
      "source": [
        "import fiftyone as fo\n",
        "import fiftyone.zoo as foz\n",
        "import os\n",
        "import random\n",
        "import yaml\n",
        "from shutil import copy2\n",
        "\n",
        "# Define target classes and maximum samples per class\n",
        "classes = [\"Apple\",\"Banana\", \"Grape\",\"Milk\",\"Bell pepper\", \"Bread\", \"Broccoli\", \"Cucumber\", \"Egg (Food)\", \"Zucchini\", \"Lemon\", \"Orange\", \"Tomato\", \"Cabbage\", \"Carrot\"]\n",
        "sample_limit_per_class = 500\n",
        "\n",
        "# Load Open Images v7 dataset with specified classes and sample limit\n",
        "view = foz.load_zoo_dataset(\n",
        "    \"open-images-v7\",\n",
        "    split=\"train\",\n",
        "    label_types=[\"detections\"],\n",
        "    classes=classes,\n",
        "    max_samples=sample_limit_per_class * len(classes),\n",
        ")\n",
        "\n",
        "# Print schema to verify label fields\n",
        "print(view.schema)\n",
        "\n",
        "# Field containing object detection annotations\n",
        "label_field = \"ground_truth\"\n",
        "\n",
        "# Set dataset export directories\n",
        "export_dir = \"/content/open_images_data\"\n",
        "train_dir = os.path.join(export_dir, 'train')\n",
        "val_dir = os.path.join(export_dir, 'val')\n",
        "test_dir = os.path.join(export_dir, 'test')\n",
        "\n",
        "# Create directories for train, validation, and test splits\n",
        "for subset in [train_dir, val_dir, test_dir]:\n",
        "    os.makedirs(os.path.join(subset, 'images'), exist_ok=True)\n",
        "    os.makedirs(os.path.join(subset, 'labels'), exist_ok=True)\n",
        "\n",
        "# Shuffle and split dataset into train (80%), validation (10%), and test (10%)\n",
        "samples = list(view)\n",
        "random.shuffle(samples)\n",
        "train_samples = samples[:int(0.8 * len(samples))]\n",
        "val_samples = samples[int(0.8 * len(samples)):int(0.9 * len(samples))]\n",
        "test_samples = samples[int(0.9 * len(samples)):]\n",
        "\n",
        "# Function to copy images and generate YOLO-format label files\n",
        "def copy_files(samples, subset_dir):\n",
        "    for sample in samples:\n",
        "        # Copy image file to target directory\n",
        "        image_file = sample.filepath\n",
        "        image_filename = os.path.basename(image_file)\n",
        "        copy2(image_file, os.path.join(subset_dir, 'images', image_filename))\n",
        "\n",
        "        # Ensure sample contains valid detections\n",
        "        if label_field in sample and sample[label_field] is not None and len(sample[label_field].detections) > 0:\n",
        "            # Write YOLO-formatted labels\n",
        "            label_filename = os.path.splitext(image_filename)[0] + '.txt'\n",
        "            label_path = os.path.join(subset_dir, 'labels', label_filename)\n",
        "\n",
        "            with open(label_path, 'w') as label_file:\n",
        "                for detection in sample[label_field].detections:\n",
        "                    # Only include detections for target classes\n",
        "                    if detection.label in classes:\n",
        "                        class_id = classes.index(detection.label)\n",
        "                        bbox = detection.bounding_box\n",
        "                        x_center = max(0, min(1, bbox[0] + bbox[2] / 2))\n",
        "                        y_center = max(0, min(1, bbox[1] / 2))\n",
        "                        width = max(0, min(1, bbox[2]))\n",
        "                        height = max(0, min(1, bbox[3]))\n",
        "\n",
        "                        # Write normalized bounding box coordinates\n",
        "                        label_file.write(f\"{class_id} {x_center} {y_center} {width} {height}\\n\")\n",
        "        else:\n",
        "            print(f\"Warning: No labels found for image: {image_filename}\")\n",
        "\n",
        "# Copy files and generate labels for each split\n",
        "copy_files(train_samples, train_dir)\n",
        "copy_files(val_samples, val_dir)\n",
        "copy_files(test_samples, test_dir)\n",
        "\n",
        "# Generate YOLO data configuration (data.yaml)\n",
        "data_yaml = {\n",
        "    'train': os.path.join(export_dir, 'train/images'),\n",
        "    'val': os.path.join(export_dir, 'val/images'),\n",
        "    'test': os.path.join(export_dir, 'test/images'),\n",
        "    'nc': len(classes),  # Number of classes\n",
        "    'names': classes,    # Class names\n",
        "}\n",
        "\n",
        "# Save data.yaml to export directory\n",
        "yaml_path = os.path.join(export_dir, 'data.yaml')\n",
        "with open(yaml_path, 'w') as yaml_file:\n",
        "    yaml.dump(data_yaml, yaml_file)\n",
        "\n",
        "print(f\"Dataset exported to: {export_dir}\")\n",
        "print(f\"data.yaml file created at: {yaml_path}\")\n"
      ],
      "metadata": {
        "id": "i9UOo0krJop-"
      },
      "execution_count": null,
      "outputs": []
    },
    {
      "cell_type": "code",
      "source": [
        "from ultralytics import YOLO\n",
        "\n",
        "# Load pretrained YOLO model\n",
        "model = YOLO(\"yolo11n.pt\")\n",
        "\n",
        "# You can train the model with customized settings\n",
        "results = model.train(\n",
        "    data=\"/content/open_images_data/data.yaml\",\n",
        "    epochs=30,\n",
        "    imgsz=640,                     # Set image size\n",
        "    batch=16,\n",
        "    project=\"/content/drive/MyDrive/YOLOv11_training results\",  # Save to Google Drive\n",
        "    name=\"yolo_experiment\"\n",
        ")\n"
      ],
      "metadata": {
        "id": "W5MKIIQvx8Oe"
      },
      "execution_count": null,
      "outputs": []
    },
    {
      "cell_type": "code",
      "source": [
        "from pathlib import Path\n",
        "\n",
        "import os\n",
        "from ultralytics import YOLO\n",
        "from PIL import Image\n",
        "\n",
        "# Define paths\n",
        "model_path = '/content/drive/MyDrive/YOLOv11_training results/yolo_experiment/weights/best.pt'\n",
        "input_folder = '/content/drive/MyDrive/fruits and vegies'    # Folder containing test images\n",
        "output_folder = '/content/drive/MyDrive/vegetables(open_images) detection'       # Folder to save detection results\n",
        "\n",
        "# Create output folder if it doesn't exist\n",
        "os.makedirs(output_folder, exist_ok=True)\n",
        "model = YOLO(model_path)\n",
        "\n",
        "# Make sure output folder exists\n",
        "Path(output_folder).mkdir(parents=True, exist_ok=True)\n",
        "\n",
        "# Process each image in the input folder\n",
        "for img_file in os.listdir(input_folder):\n",
        "    img_path = os.path.join(input_folder, img_file)\n",
        "\n",
        "    # Run inference\n",
        "    results = model(img_path)\n",
        "\n",
        "    # Save each result individually\n",
        "    for i, result in enumerate(results):\n",
        "        # Get the output path\n",
        "        output_path = os.path.join(output_folder, f\"annotated_{img_file}\")\n",
        "\n",
        "        # Save each annotated image to the output folder\n",
        "        result.save(output_path)\n",
        "\n",
        "    print(f\"Processed {img_file}, results saved to {output_folder}\")\n"
      ],
      "metadata": {
        "id": "OLY-PBOO2t7c"
      },
      "execution_count": null,
      "outputs": []
    },
    {
      "cell_type": "code",
      "source": [],
      "metadata": {
        "id": "Z1L1-7s7O_4G"
      },
      "execution_count": null,
      "outputs": []
    }
  ]
}